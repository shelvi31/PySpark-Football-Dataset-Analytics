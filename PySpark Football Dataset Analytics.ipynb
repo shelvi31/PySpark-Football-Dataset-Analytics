{
 "cells": [
  {
   "cell_type": "markdown",
   "id": "floating-clinton",
   "metadata": {},
   "source": [
    "## TASK: Using Pyspark to get Answer to the Question:\n",
    "\n",
    "Who are the winners of the D1 division in the Germany Football Association (Bundesliga) between 2000–2010?"
   ]
  },
  {
   "cell_type": "markdown",
   "id": "varying-marker",
   "metadata": {},
   "source": [
    "#### Importing Dataset from GitHub:"
   ]
  },
  {
   "cell_type": "code",
   "execution_count": 1,
   "id": "robust-conviction",
   "metadata": {},
   "outputs": [],
   "source": [
    "import pandas as pd\n",
    "import requests\n",
    "\n",
    "    \n",
    "req = requests.get(\"https://raw.githubusercontent.com/henokyemam/Wrangling_PySpark/main/Data/Matches.csv\")\n",
    "url_content = req.content\n",
    "csv_file = open('matches.csv', 'wb')\n",
    "\n",
    "csv_file.write(url_content)\n",
    "csv_file.close()"
   ]
  },
  {
   "cell_type": "code",
   "execution_count": 2,
   "id": "intended-digest",
   "metadata": {},
   "outputs": [
    {
     "data": {
      "text/html": [
       "<div>\n",
       "<style scoped>\n",
       "    .dataframe tbody tr th:only-of-type {\n",
       "        vertical-align: middle;\n",
       "    }\n",
       "\n",
       "    .dataframe tbody tr th {\n",
       "        vertical-align: top;\n",
       "    }\n",
       "\n",
       "    .dataframe thead th {\n",
       "        text-align: right;\n",
       "    }\n",
       "</style>\n",
       "<table border=\"1\" class=\"dataframe\">\n",
       "  <thead>\n",
       "    <tr style=\"text-align: right;\">\n",
       "      <th></th>\n",
       "      <th>Match_ID</th>\n",
       "      <th>Div</th>\n",
       "      <th>Season</th>\n",
       "      <th>Date</th>\n",
       "      <th>HomeTeam</th>\n",
       "      <th>AwayTeam</th>\n",
       "      <th>FTHG</th>\n",
       "      <th>FTAG</th>\n",
       "      <th>FTR</th>\n",
       "    </tr>\n",
       "  </thead>\n",
       "  <tbody>\n",
       "    <tr>\n",
       "      <th>0</th>\n",
       "      <td>1</td>\n",
       "      <td>D2</td>\n",
       "      <td>2009</td>\n",
       "      <td>2010-04-04</td>\n",
       "      <td>Oberhausen</td>\n",
       "      <td>Kaiserslautern</td>\n",
       "      <td>2</td>\n",
       "      <td>1</td>\n",
       "      <td>H</td>\n",
       "    </tr>\n",
       "    <tr>\n",
       "      <th>1</th>\n",
       "      <td>2</td>\n",
       "      <td>D2</td>\n",
       "      <td>2009</td>\n",
       "      <td>2009-11-01</td>\n",
       "      <td>Munich 1860</td>\n",
       "      <td>Kaiserslautern</td>\n",
       "      <td>0</td>\n",
       "      <td>1</td>\n",
       "      <td>A</td>\n",
       "    </tr>\n",
       "    <tr>\n",
       "      <th>2</th>\n",
       "      <td>3</td>\n",
       "      <td>D2</td>\n",
       "      <td>2009</td>\n",
       "      <td>2009-10-04</td>\n",
       "      <td>Frankfurt FSV</td>\n",
       "      <td>Kaiserslautern</td>\n",
       "      <td>1</td>\n",
       "      <td>1</td>\n",
       "      <td>D</td>\n",
       "    </tr>\n",
       "    <tr>\n",
       "      <th>3</th>\n",
       "      <td>4</td>\n",
       "      <td>D2</td>\n",
       "      <td>2009</td>\n",
       "      <td>2010-02-21</td>\n",
       "      <td>Frankfurt FSV</td>\n",
       "      <td>Karlsruhe</td>\n",
       "      <td>2</td>\n",
       "      <td>1</td>\n",
       "      <td>H</td>\n",
       "    </tr>\n",
       "    <tr>\n",
       "      <th>4</th>\n",
       "      <td>5</td>\n",
       "      <td>D2</td>\n",
       "      <td>2009</td>\n",
       "      <td>2009-12-06</td>\n",
       "      <td>Ahlen</td>\n",
       "      <td>Karlsruhe</td>\n",
       "      <td>1</td>\n",
       "      <td>3</td>\n",
       "      <td>A</td>\n",
       "    </tr>\n",
       "  </tbody>\n",
       "</table>\n",
       "</div>"
      ],
      "text/plain": [
       "   Match_ID Div  Season        Date       HomeTeam        AwayTeam  FTHG  \\\n",
       "0         1  D2    2009  2010-04-04     Oberhausen  Kaiserslautern     2   \n",
       "1         2  D2    2009  2009-11-01    Munich 1860  Kaiserslautern     0   \n",
       "2         3  D2    2009  2009-10-04  Frankfurt FSV  Kaiserslautern     1   \n",
       "3         4  D2    2009  2010-02-21  Frankfurt FSV       Karlsruhe     2   \n",
       "4         5  D2    2009  2009-12-06          Ahlen       Karlsruhe     1   \n",
       "\n",
       "   FTAG FTR  \n",
       "0     1   H  \n",
       "1     1   A  \n",
       "2     1   D  \n",
       "3     1   H  \n",
       "4     3   A  "
      ]
     },
     "execution_count": 2,
     "metadata": {},
     "output_type": "execute_result"
    }
   ],
   "source": [
    "#Reading file in Pandas Dataframe\n",
    "df = pd.read_csv(\"matches.csv\")\n",
    "df.head(5)"
   ]
  },
  {
   "cell_type": "markdown",
   "id": "cathedral-camcorder",
   "metadata": {},
   "source": [
    "#### Importing Spark Related Libraries"
   ]
  },
  {
   "cell_type": "code",
   "execution_count": 3,
   "id": "turned-treasurer",
   "metadata": {},
   "outputs": [
    {
     "name": "stdout",
     "output_type": "stream",
     "text": [
      "all imported\n"
     ]
    }
   ],
   "source": [
    "try:\n",
    "    import pyspark\n",
    "    from pyspark import SparkContext\n",
    "    from pyspark.sql import SparkSession, Window, Row\n",
    "    from pyspark.sql.functions import *\n",
    "    from pyspark.sql.types import *\n",
    "    import matplotlib.pyplot as plt\n",
    "    print(\"all imported\")\n",
    "except:\n",
    "    print(\"error in loading\")"
   ]
  },
  {
   "cell_type": "markdown",
   "id": "healthy-escape",
   "metadata": {},
   "source": [
    "#### Building a Spark Session"
   ]
  },
  {
   "cell_type": "code",
   "execution_count": 4,
   "id": "absolute-advertiser",
   "metadata": {},
   "outputs": [
    {
     "data": {
      "text/html": [
       "\n",
       "            <div>\n",
       "                <p><b>SparkSession - in-memory</b></p>\n",
       "                \n",
       "        <div>\n",
       "            <p><b>SparkContext</b></p>\n",
       "\n",
       "            <p><a href=\"http://DESKTOP-S04CMFP.mshome.net:4040\">Spark UI</a></p>\n",
       "\n",
       "            <dl>\n",
       "              <dt>Version</dt>\n",
       "                <dd><code>v3.1.2</code></dd>\n",
       "              <dt>Master</dt>\n",
       "                <dd><code>local[*]</code></dd>\n",
       "              <dt>AppName</dt>\n",
       "                <dd><code>Spark-Matches-Project</code></dd>\n",
       "            </dl>\n",
       "        </div>\n",
       "        \n",
       "            </div>\n",
       "        "
      ],
      "text/plain": [
       "<pyspark.sql.session.SparkSession at 0x185fca02610>"
      ]
     },
     "execution_count": 4,
     "metadata": {},
     "output_type": "execute_result"
    }
   ],
   "source": [
    "spark = SparkSession \\\n",
    "        .builder \\\n",
    "        .appName(\"Spark-Matches-Project\") \\\n",
    "        .getOrCreate()\n",
    "spark"
   ]
  },
  {
   "cell_type": "markdown",
   "id": "rapid-opposition",
   "metadata": {},
   "source": [
    "#### Reading File in Spark"
   ]
  },
  {
   "cell_type": "code",
   "execution_count": 5,
   "id": "voluntary-poker",
   "metadata": {},
   "outputs": [
    {
     "data": {
      "text/plain": [
       "pyspark.sql.dataframe.DataFrame"
      ]
     },
     "execution_count": 5,
     "metadata": {},
     "output_type": "execute_result"
    }
   ],
   "source": [
    "sql_df = spark.read.csv(\"matches.csv\",header=True,inferSchema=True)\n",
    "type(sql_df)"
   ]
  },
  {
   "cell_type": "code",
   "execution_count": 6,
   "id": "conditional-coordination",
   "metadata": {},
   "outputs": [
    {
     "name": "stdout",
     "output_type": "stream",
     "text": [
      "root\n",
      " |-- Match_ID: integer (nullable = true)\n",
      " |-- Div: string (nullable = true)\n",
      " |-- Season: integer (nullable = true)\n",
      " |-- Date: string (nullable = true)\n",
      " |-- HomeTeam: string (nullable = true)\n",
      " |-- AwayTeam: string (nullable = true)\n",
      " |-- FTHG: integer (nullable = true)\n",
      " |-- FTAG: integer (nullable = true)\n",
      " |-- FTR: string (nullable = true)\n",
      "\n"
     ]
    }
   ],
   "source": [
    "sql_df.printSchema()"
   ]
  },
  {
   "cell_type": "code",
   "execution_count": 7,
   "id": "greater-values",
   "metadata": {},
   "outputs": [
    {
     "name": "stdout",
     "output_type": "stream",
     "text": [
      "+--------+---+------+----------+-------------+--------------+----+----+---+\n",
      "|Match_ID|Div|Season|      Date|     HomeTeam|      AwayTeam|FTHG|FTAG|FTR|\n",
      "+--------+---+------+----------+-------------+--------------+----+----+---+\n",
      "|       1| D2|  2009|2010-04-04|   Oberhausen|Kaiserslautern|   2|   1|  H|\n",
      "|       2| D2|  2009|2009-11-01|  Munich 1860|Kaiserslautern|   0|   1|  A|\n",
      "|       3| D2|  2009|2009-10-04|Frankfurt FSV|Kaiserslautern|   1|   1|  D|\n",
      "+--------+---+------+----------+-------------+--------------+----+----+---+\n",
      "only showing top 3 rows\n",
      "\n"
     ]
    }
   ],
   "source": [
    "sql_df.show(3)"
   ]
  },
  {
   "cell_type": "code",
   "execution_count": 8,
   "id": "senior-mongolia",
   "metadata": {},
   "outputs": [
    {
     "name": "stdout",
     "output_type": "stream",
     "text": [
      "+-------+------------------+-----+----------------+----------+--------+--------+------------------+------------------+-----+\n",
      "|summary|          Match_ID|  Div|          Season|      Date|HomeTeam|AwayTeam|              FTHG|              FTAG|  FTR|\n",
      "+-------+------------------+-----+----------------+----------+--------+--------+------------------+------------------+-----+\n",
      "|  count|             24625|24625|           24625|     24625|   24625|   24625|             24625|             24625|24625|\n",
      "|   mean|27335.103228426397| null|2004.69876142132|      null|    null|    null|1.5170355329949239| 1.097502538071066| null|\n",
      "| stddev| 16631.84606173585| null|7.16693132762853|      null|    null|    null|1.3594706607115317|1.1635103573988272| null|\n",
      "|    min|                 1|   D1|            1993|1993-07-28|  Aachen|  Aachen|                -1|                -1|    A|\n",
      "|    max|             46774|   E0|            2017|2018-05-13| Zwickau| Zwickau|                 9|                 9|    H|\n",
      "+-------+------------------+-----+----------------+----------+--------+--------+------------------+------------------+-----+\n",
      "\n"
     ]
    }
   ],
   "source": [
    "sql_df.describe().show()"
   ]
  },
  {
   "cell_type": "markdown",
   "id": "identified-storm",
   "metadata": {},
   "source": [
    "#### Renaming Some columns"
   ]
  },
  {
   "cell_type": "code",
   "execution_count": 9,
   "id": "binary-integrity",
   "metadata": {},
   "outputs": [
    {
     "data": {
      "text/plain": [
       "['FTHG', 'FTAG', 'FTR']"
      ]
     },
     "execution_count": 9,
     "metadata": {},
     "output_type": "execute_result"
    }
   ],
   "source": [
    "#Renaming last three columns \n",
    "cols_old = sql_df.columns[-3:]\n",
    "cols_old"
   ]
  },
  {
   "cell_type": "code",
   "execution_count": 10,
   "id": "portable-climb",
   "metadata": {},
   "outputs": [
    {
     "data": {
      "text/plain": [
       "['FTHG', 'FTAG', 'FTR']"
      ]
     },
     "execution_count": 10,
     "metadata": {},
     "output_type": "execute_result"
    }
   ],
   "source": [
    "cols_old = sql_df.columns[6:]\n",
    "cols_old"
   ]
  },
  {
   "cell_type": "code",
   "execution_count": 11,
   "id": "settled-authorization",
   "metadata": {},
   "outputs": [],
   "source": [
    "cols_new = [\"HomeTeamGoals\", \"AwayTeamGoals\", \"FinalResult\"]"
   ]
  },
  {
   "cell_type": "markdown",
   "id": "specific-period",
   "metadata": {},
   "source": [
    "##### Python's zip() function creates an iterator that will aggregate elements from two or more iterables. "
   ]
  },
  {
   "cell_type": "code",
   "execution_count": 12,
   "id": "wireless-subsection",
   "metadata": {},
   "outputs": [
    {
     "data": {
      "text/plain": [
       "[('FTHG', 'HomeTeamGoals'), ('FTAG', 'AwayTeamGoals'), ('FTR', 'FinalResult')]"
      ]
     },
     "execution_count": 12,
     "metadata": {},
     "output_type": "execute_result"
    }
   ],
   "source": [
    "old_new_cols = [*zip(cols_old,cols_new)]\n",
    "old_new_cols"
   ]
  },
  {
   "cell_type": "code",
   "execution_count": 13,
   "id": "intellectual-violin",
   "metadata": {},
   "outputs": [
    {
     "name": "stdout",
     "output_type": "stream",
     "text": [
      "+--------+---+------+----------+--------------+--------------+-------------+-------------+-----------+\n",
      "|Match_ID|Div|Season|      Date|      HomeTeam|      AwayTeam|HomeTeamGoals|AwayTeamGoals|FinalResult|\n",
      "+--------+---+------+----------+--------------+--------------+-------------+-------------+-----------+\n",
      "|       1| D2|  2009|2010-04-04|    Oberhausen|Kaiserslautern|            2|            1|          H|\n",
      "|       2| D2|  2009|2009-11-01|   Munich 1860|Kaiserslautern|            0|            1|          A|\n",
      "|       3| D2|  2009|2009-10-04| Frankfurt FSV|Kaiserslautern|            1|            1|          D|\n",
      "|       4| D2|  2009|2010-02-21| Frankfurt FSV|     Karlsruhe|            2|            1|          H|\n",
      "|       5| D2|  2009|2009-12-06|         Ahlen|     Karlsruhe|            1|            3|          A|\n",
      "|       6| D2|  2009|2010-04-03|  Union Berlin|     Karlsruhe|            1|            1|          D|\n",
      "|       7| D2|  2009|2009-08-14|     Paderborn|     Karlsruhe|            2|            0|          H|\n",
      "|       8| D2|  2009|2010-03-08|     Bielefeld|     Karlsruhe|            0|            1|          A|\n",
      "|       9| D2|  2009|2009-09-26|Kaiserslautern|     Karlsruhe|            2|            0|          H|\n",
      "|      10| D2|  2009|2009-11-21| Hansa Rostock|     Karlsruhe|            2|            1|          H|\n",
      "+--------+---+------+----------+--------------+--------------+-------------+-------------+-----------+\n",
      "only showing top 10 rows\n",
      "\n"
     ]
    }
   ],
   "source": [
    "for cols_old, cols_new in old_new_cols:\n",
    "    sql_df = sql_df.withColumnRenamed(cols_old, cols_new)\n",
    "    \n",
    "sql_df.show(10)"
   ]
  },
  {
   "cell_type": "code",
   "execution_count": 14,
   "id": "numerous-tokyo",
   "metadata": {},
   "outputs": [
    {
     "name": "stdout",
     "output_type": "stream",
     "text": [
      "root\n",
      " |-- Match_ID: integer (nullable = true)\n",
      " |-- Div: string (nullable = true)\n",
      " |-- Season: integer (nullable = true)\n",
      " |-- Date: string (nullable = true)\n",
      " |-- HomeTeam: string (nullable = true)\n",
      " |-- AwayTeam: string (nullable = true)\n",
      " |-- HomeTeamGoals: integer (nullable = true)\n",
      " |-- AwayTeamGoals: integer (nullable = true)\n",
      " |-- FinalResult: string (nullable = true)\n",
      "\n"
     ]
    }
   ],
   "source": [
    "sql_df.printSchema()"
   ]
  },
  {
   "cell_type": "markdown",
   "id": "correct-butterfly",
   "metadata": {},
   "source": [
    "#### Dataset Manipulation for Staright Forward and Easy Forward Understanding "
   ]
  },
  {
   "cell_type": "code",
   "execution_count": 15,
   "id": "diverse-installation",
   "metadata": {},
   "outputs": [
    {
     "data": {
      "text/html": [
       "<div>\n",
       "<style scoped>\n",
       "    .dataframe tbody tr th:only-of-type {\n",
       "        vertical-align: middle;\n",
       "    }\n",
       "\n",
       "    .dataframe tbody tr th {\n",
       "        vertical-align: top;\n",
       "    }\n",
       "\n",
       "    .dataframe thead th {\n",
       "        text-align: right;\n",
       "    }\n",
       "</style>\n",
       "<table border=\"1\" class=\"dataframe\">\n",
       "  <thead>\n",
       "    <tr style=\"text-align: right;\">\n",
       "      <th></th>\n",
       "      <th>Match_ID</th>\n",
       "      <th>Div</th>\n",
       "      <th>Season</th>\n",
       "      <th>Date</th>\n",
       "      <th>HomeTeam</th>\n",
       "      <th>AwayTeam</th>\n",
       "      <th>HomeTeamGoals</th>\n",
       "      <th>AwayTeamGoals</th>\n",
       "      <th>FinalResult</th>\n",
       "      <th>HomeTeamWin</th>\n",
       "      <th>AwayTeamWin</th>\n",
       "      <th>GameTie</th>\n",
       "    </tr>\n",
       "  </thead>\n",
       "  <tbody>\n",
       "    <tr>\n",
       "      <th>0</th>\n",
       "      <td>1</td>\n",
       "      <td>D2</td>\n",
       "      <td>2009</td>\n",
       "      <td>2010-04-04</td>\n",
       "      <td>Oberhausen</td>\n",
       "      <td>Kaiserslautern</td>\n",
       "      <td>2</td>\n",
       "      <td>1</td>\n",
       "      <td>H</td>\n",
       "      <td>1</td>\n",
       "      <td>0</td>\n",
       "      <td>0</td>\n",
       "    </tr>\n",
       "    <tr>\n",
       "      <th>1</th>\n",
       "      <td>2</td>\n",
       "      <td>D2</td>\n",
       "      <td>2009</td>\n",
       "      <td>2009-11-01</td>\n",
       "      <td>Munich 1860</td>\n",
       "      <td>Kaiserslautern</td>\n",
       "      <td>0</td>\n",
       "      <td>1</td>\n",
       "      <td>A</td>\n",
       "      <td>0</td>\n",
       "      <td>1</td>\n",
       "      <td>0</td>\n",
       "    </tr>\n",
       "    <tr>\n",
       "      <th>2</th>\n",
       "      <td>3</td>\n",
       "      <td>D2</td>\n",
       "      <td>2009</td>\n",
       "      <td>2009-10-04</td>\n",
       "      <td>Frankfurt FSV</td>\n",
       "      <td>Kaiserslautern</td>\n",
       "      <td>1</td>\n",
       "      <td>1</td>\n",
       "      <td>D</td>\n",
       "      <td>0</td>\n",
       "      <td>0</td>\n",
       "      <td>1</td>\n",
       "    </tr>\n",
       "    <tr>\n",
       "      <th>3</th>\n",
       "      <td>4</td>\n",
       "      <td>D2</td>\n",
       "      <td>2009</td>\n",
       "      <td>2010-02-21</td>\n",
       "      <td>Frankfurt FSV</td>\n",
       "      <td>Karlsruhe</td>\n",
       "      <td>2</td>\n",
       "      <td>1</td>\n",
       "      <td>H</td>\n",
       "      <td>1</td>\n",
       "      <td>0</td>\n",
       "      <td>0</td>\n",
       "    </tr>\n",
       "    <tr>\n",
       "      <th>4</th>\n",
       "      <td>5</td>\n",
       "      <td>D2</td>\n",
       "      <td>2009</td>\n",
       "      <td>2009-12-06</td>\n",
       "      <td>Ahlen</td>\n",
       "      <td>Karlsruhe</td>\n",
       "      <td>1</td>\n",
       "      <td>3</td>\n",
       "      <td>A</td>\n",
       "      <td>0</td>\n",
       "      <td>1</td>\n",
       "      <td>0</td>\n",
       "    </tr>\n",
       "  </tbody>\n",
       "</table>\n",
       "</div>"
      ],
      "text/plain": [
       "   Match_ID Div  Season        Date       HomeTeam        AwayTeam  \\\n",
       "0         1  D2    2009  2010-04-04     Oberhausen  Kaiserslautern   \n",
       "1         2  D2    2009  2009-11-01    Munich 1860  Kaiserslautern   \n",
       "2         3  D2    2009  2009-10-04  Frankfurt FSV  Kaiserslautern   \n",
       "3         4  D2    2009  2010-02-21  Frankfurt FSV       Karlsruhe   \n",
       "4         5  D2    2009  2009-12-06          Ahlen       Karlsruhe   \n",
       "\n",
       "   HomeTeamGoals  AwayTeamGoals FinalResult  HomeTeamWin  AwayTeamWin  GameTie  \n",
       "0              2              1           H            1            0        0  \n",
       "1              0              1           A            0            1        0  \n",
       "2              1              1           D            0            0        1  \n",
       "3              2              1           H            1            0        0  \n",
       "4              1              3           A            0            1        0  "
      ]
     },
     "execution_count": 15,
     "metadata": {},
     "output_type": "execute_result"
    }
   ],
   "source": [
    "#Creating new columns for result segregation\n",
    "\n",
    "sql_df = sql_df \\\n",
    "    .withColumn('HomeTeamWin', when(col('FinalResult') == 'H', 1).otherwise(0)) \\\n",
    "    .withColumn('AwayTeamWin', when(col('FinalResult') == 'A', 1).otherwise(0)) \\\n",
    "    .withColumn('GameTie', when(col('FinalResult') == 'D', 1).otherwise(0))\n",
    "\n",
    "sql_df.limit(5).toPandas()"
   ]
  },
  {
   "cell_type": "code",
   "execution_count": 16,
   "id": "forward-counter",
   "metadata": {},
   "outputs": [
    {
     "data": {
      "text/plain": [
       "['Match_ID',\n",
       " 'Div',\n",
       " 'Season',\n",
       " 'Date',\n",
       " 'HomeTeam',\n",
       " 'AwayTeam',\n",
       " 'HomeTeamGoals',\n",
       " 'AwayTeamGoals',\n",
       " 'FinalResult',\n",
       " 'HomeTeamWin',\n",
       " 'AwayTeamWin',\n",
       " 'GameTie']"
      ]
     },
     "execution_count": 16,
     "metadata": {},
     "output_type": "execute_result"
    }
   ],
   "source": [
    "sql_df.columns"
   ]
  },
  {
   "cell_type": "markdown",
   "id": "needed-validity",
   "metadata": {},
   "source": [
    "### Question : Who are the winners of the D1 division in the Germany Football Association (Bundesliga) between 2000–2010?"
   ]
  },
  {
   "cell_type": "code",
   "execution_count": 17,
   "id": "pharmaceutical-martial",
   "metadata": {},
   "outputs": [
    {
     "name": "stdout",
     "output_type": "stream",
     "text": [
      "24625\n"
     ]
    },
    {
     "data": {
      "text/plain": [
       "3366"
      ]
     },
     "execution_count": 17,
     "metadata": {},
     "output_type": "execute_result"
    }
   ],
   "source": [
    "print(sql_df.count())\n",
    "\n",
    "#bundesliga is a D1 division and we are interested in season <= 2010 and >= 2000\n",
    "\n",
    "bundesliga = sql_df \\\n",
    "            .filter(col(\"Div\") == \"D1\") \\\n",
    "            .filter((col(\"Season\") >= 2000) & (col(\"Season\") <= 2010) )\n",
    "\n",
    "type(bundesliga)\n",
    "bundesliga.count()      "
   ]
  },
  {
   "cell_type": "markdown",
   "id": "retired-chamber",
   "metadata": {},
   "source": [
    "##### The design is to aggregate the home and away game results separately creating two dataframes: home and away."
   ]
  },
  {
   "cell_type": "markdown",
   "id": "distinguished-organic",
   "metadata": {},
   "source": [
    "#### Home Team Features"
   ]
  },
  {
   "cell_type": "code",
   "execution_count": 18,
   "id": "documentary-cleaners",
   "metadata": {},
   "outputs": [
    {
     "name": "stdout",
     "output_type": "stream",
     "text": [
      "shape of bundesliga: (3366, 12)\n"
     ]
    }
   ],
   "source": [
    "#Overall shape:\n",
    "print(\"shape of bundesliga:\",(bundesliga.count(),len(bundesliga.columns)))"
   ]
  },
  {
   "cell_type": "code",
   "execution_count": 19,
   "id": "breeding-vietnam",
   "metadata": {},
   "outputs": [
    {
     "name": "stdout",
     "output_type": "stream",
     "text": [
      "+------+-------------+-----+\n",
      "|Season|     HomeTeam|count|\n",
      "+------+-------------+-----+\n",
      "|  2005|Bayern Munich|   17|\n",
      "|  2008|   M'gladbach|   17|\n",
      "|  2006|      Cottbus|   17|\n",
      "|  2010|     Hannover|   17|\n",
      "|  2004|   Leverkusen|   17|\n",
      "+------+-------------+-----+\n",
      "only showing top 5 rows\n",
      "\n"
     ]
    }
   ],
   "source": [
    "bundesliga.groupby(\"Season\",\"HomeTeam\").count().show(5)"
   ]
  },
  {
   "cell_type": "code",
   "execution_count": 20,
   "id": "matched-found",
   "metadata": {},
   "outputs": [
    {
     "name": "stdout",
     "output_type": "stream",
     "text": [
      "+------+-------------+------------+-------------+------------+---------------+----------------+\n",
      "|Season|         Team|TotalHomeWin|TotalHomeLoss|TotalHomeTie|HomeScoredGoals|HomeAgainstGoals|\n",
      "+------+-------------+------------+-------------+------------+---------------+----------------+\n",
      "|  2005|Bayern Munich|          14|            1|           2|             42|              14|\n",
      "|  2008|   M'gladbach|           5|            8|           4|             23|              27|\n",
      "|  2006|      Cottbus|           6|            6|           5|             21|              22|\n",
      "|  2010|     Hannover|          12|            4|           1|             32|              17|\n",
      "|  2004|   Leverkusen|          12|            2|           3|             42|              18|\n",
      "|  2007|      Cottbus|           8|            7|           2|             25|              20|\n",
      "|  2004|        Mainz|           9|            5|           3|             28|              21|\n",
      "+------+-------------+------------+-------------+------------+---------------+----------------+\n",
      "only showing top 7 rows\n",
      "\n",
      "None\n",
      "(198, 7)\n"
     ]
    }
   ],
   "source": [
    "home = bundesliga.groupby(\"Season\",\"HomeTeam\") \\\n",
    "        .agg(\n",
    "        sum(\"HomeTeamWin\").alias(\"TotalHomeWin\"),\n",
    "        sum(\"AwayTeamWin\").alias(\"TotalHomeLoss\"),\n",
    "        sum(\"GameTie\").alias(\"TotalHomeTie\"),\n",
    "        sum(\"HomeTeamGoals\").alias(\"HomeScoredGoals\"),\n",
    "        sum('AwayTeamGoals').alias('HomeAgainstGoals')) \\\n",
    "        .withColumnRenamed(\"HomeTeam\",\"Team\")\n",
    "    \n",
    "print(home.show(7))\n",
    "    \n",
    "#Finding out shape of output:\n",
    "print((home.count(),len(home.columns)))"
   ]
  },
  {
   "cell_type": "code",
   "execution_count": 21,
   "id": "sustainable-chain",
   "metadata": {},
   "outputs": [
    {
     "name": "stdout",
     "output_type": "stream",
     "text": [
      "+------+-------------+------------+-------------+------------+---------------+----------------+\n",
      "|Season|         Team|TotalAwayWin|TotalAwayLoss|TotalAwayTie|AwayScoredGoals|AwayAgainstGoals|\n",
      "+------+-------------+------------+-------------+------------+---------------+----------------+\n",
      "|  2005|Bayern Munich|           8|            2|           7|             25|              18|\n",
      "|  2008|   M'gladbach|           3|           11|           3|             16|              35|\n",
      "|  2006|      Cottbus|           5|            9|           3|             17|              27|\n",
      "|  2010|     Hannover|           7|            8|           2|             17|              28|\n",
      "|  2004|   Leverkusen|           4|            7|           6|             23|              26|\n",
      "|  2007|      Cottbus|           1|            9|           7|             10|              36|\n",
      "|  2004|     Hannover|           5|            8|           4|             13|              17|\n",
      "+------+-------------+------------+-------------+------------+---------------+----------------+\n",
      "only showing top 7 rows\n",
      "\n",
      "None\n",
      "(198, 7)\n"
     ]
    },
    {
     "data": {
      "text/plain": [
       "pyspark.sql.dataframe.DataFrame"
      ]
     },
     "execution_count": 21,
     "metadata": {},
     "output_type": "execute_result"
    }
   ],
   "source": [
    "#away game features \n",
    "away =  bundesliga.groupby('Season', 'AwayTeam') \\\n",
    "       .agg(sum('AwayTeamWin').alias('TotalAwayWin'),\n",
    "            sum('HomeTeamWin').alias('TotalAwayLoss'),\n",
    "            sum('GameTie').alias('TotalAwayTie'),\n",
    "            sum('AwayTeamGoals').alias('AwayScoredGoals'),\n",
    "            sum('HomeTeamGoals').alias('AwayAgainstGoals'))  \\\n",
    "       .withColumnRenamed('AwayTeam', 'Team')\n",
    "\n",
    "print(away.show(7))\n",
    "    \n",
    "#Finding out shape of output:\n",
    "print((away.count(),len(away.columns)))\n",
    "\n",
    "type(away)"
   ]
  },
  {
   "cell_type": "markdown",
   "id": "stable-primary",
   "metadata": {},
   "source": [
    "Then, inner join them on ‘Team’ and ‘Season’ fields to create a single dataframe containing game level aggregation: table. "
   ]
  },
  {
   "cell_type": "code",
   "execution_count": 22,
   "id": "joint-hudson",
   "metadata": {},
   "outputs": [
    {
     "name": "stdout",
     "output_type": "stream",
     "text": [
      "(198, 9)\n"
     ]
    },
    {
     "data": {
      "text/html": [
       "<div>\n",
       "<style scoped>\n",
       "    .dataframe tbody tr th:only-of-type {\n",
       "        vertical-align: middle;\n",
       "    }\n",
       "\n",
       "    .dataframe tbody tr th {\n",
       "        vertical-align: top;\n",
       "    }\n",
       "\n",
       "    .dataframe thead th {\n",
       "        text-align: right;\n",
       "    }\n",
       "</style>\n",
       "<table border=\"1\" class=\"dataframe\">\n",
       "  <thead>\n",
       "    <tr style=\"text-align: right;\">\n",
       "      <th></th>\n",
       "      <th>Team</th>\n",
       "      <th>Season</th>\n",
       "      <th>GoalsScored</th>\n",
       "      <th>GoalsAgainst</th>\n",
       "      <th>GoalDifferentials</th>\n",
       "      <th>Win</th>\n",
       "      <th>Loss</th>\n",
       "      <th>Tie</th>\n",
       "      <th>WinPct</th>\n",
       "    </tr>\n",
       "  </thead>\n",
       "  <tbody>\n",
       "    <tr>\n",
       "      <th>0</th>\n",
       "      <td>Bayern Munich</td>\n",
       "      <td>2005</td>\n",
       "      <td>67</td>\n",
       "      <td>32</td>\n",
       "      <td>35</td>\n",
       "      <td>22</td>\n",
       "      <td>3</td>\n",
       "      <td>9</td>\n",
       "      <td>64.71</td>\n",
       "    </tr>\n",
       "    <tr>\n",
       "      <th>1</th>\n",
       "      <td>M'gladbach</td>\n",
       "      <td>2008</td>\n",
       "      <td>39</td>\n",
       "      <td>62</td>\n",
       "      <td>-23</td>\n",
       "      <td>8</td>\n",
       "      <td>19</td>\n",
       "      <td>7</td>\n",
       "      <td>23.53</td>\n",
       "    </tr>\n",
       "    <tr>\n",
       "      <th>2</th>\n",
       "      <td>Cottbus</td>\n",
       "      <td>2006</td>\n",
       "      <td>38</td>\n",
       "      <td>49</td>\n",
       "      <td>-11</td>\n",
       "      <td>11</td>\n",
       "      <td>15</td>\n",
       "      <td>8</td>\n",
       "      <td>32.35</td>\n",
       "    </tr>\n",
       "    <tr>\n",
       "      <th>3</th>\n",
       "      <td>Hannover</td>\n",
       "      <td>2010</td>\n",
       "      <td>49</td>\n",
       "      <td>45</td>\n",
       "      <td>4</td>\n",
       "      <td>19</td>\n",
       "      <td>12</td>\n",
       "      <td>3</td>\n",
       "      <td>55.88</td>\n",
       "    </tr>\n",
       "    <tr>\n",
       "      <th>4</th>\n",
       "      <td>Leverkusen</td>\n",
       "      <td>2004</td>\n",
       "      <td>65</td>\n",
       "      <td>44</td>\n",
       "      <td>21</td>\n",
       "      <td>16</td>\n",
       "      <td>9</td>\n",
       "      <td>9</td>\n",
       "      <td>47.06</td>\n",
       "    </tr>\n",
       "  </tbody>\n",
       "</table>\n",
       "</div>"
      ],
      "text/plain": [
       "            Team  Season  GoalsScored  GoalsAgainst  GoalDifferentials  Win  \\\n",
       "0  Bayern Munich    2005           67            32                 35   22   \n",
       "1     M'gladbach    2008           39            62                -23    8   \n",
       "2        Cottbus    2006           38            49                -11   11   \n",
       "3       Hannover    2010           49            45                  4   19   \n",
       "4     Leverkusen    2004           65            44                 21   16   \n",
       "\n",
       "   Loss  Tie  WinPct  \n",
       "0     3    9   64.71  \n",
       "1    19    7   23.53  \n",
       "2    15    8   32.35  \n",
       "3    12    3   55.88  \n",
       "4     9    9   47.06  "
      ]
     },
     "execution_count": 22,
     "metadata": {},
     "output_type": "execute_result"
    }
   ],
   "source": [
    "table = home.join(away,[\"Team\",\"Season\"],\"inner\") \\\n",
    "        .withColumn(\"GoalsScored\",col(\"HomeScoredGoals\")+col(\"AwayScoredGoals\")) \\\n",
    "        .withColumn('GoalsAgainst', col('HomeAgainstGoals') + col('AwayAgainstGoals')) \\\n",
    "        .withColumn('GoalDifferentials', col('GoalsScored') - col('GoalsAgainst')) \\\n",
    "        .withColumn('Win', col('TotalHomeWin') + col('TotalAwayWin')) \\\n",
    "        .withColumn('Loss', col('TotalHomeLoss') + col('TotalAwayLoss')) \\\n",
    "        .withColumn('Tie', col('TotalHomeTie') + col('TotalAwayTie')) \\\n",
    "        .drop('HomeScoredGoals', 'AwayScoredGoals', 'HomeAgainstGoals', 'AwayAgainstGoals') \\\n",
    "        .drop('TotalHomeWin', 'TotalAwayWin', 'TotalHomeLoss', 'TotalAwayLoss', 'TotalHomeTie', 'TotalAwayTie') \\\n",
    "        .withColumn('WinPct', round((100* col('Win')/(col('Win') + col('Loss') + col('Tie'))), 2)) \n",
    "#Defining Total Win (Out of Total Matches Played)\n",
    "        \n",
    "\n",
    "#Finding out shape of output:\n",
    "print((table.count(),len(table.columns)))\n",
    "\n",
    "table.limit(5).toPandas()"
   ]
  },
  {
   "cell_type": "markdown",
   "id": "authorized-korean",
   "metadata": {},
   "source": [
    "### Using Windows Function of PySpark"
   ]
  },
  {
   "cell_type": "markdown",
   "id": "pregnant-luther",
   "metadata": {},
   "source": [
    "I use a basic window function to further aggregate game statistics on season level and rank them based on winning percentage and goal differentials. The reason why I added goal differentials is because it’s used as a tie-breaker in soccer."
   ]
  },
  {
   "cell_type": "markdown",
   "id": "selective-hollow",
   "metadata": {},
   "source": [
    "#### About Windows Function:\n",
    "PySpark Window functions are used to calculate results such as the rank, row number e.t.c over a range of input rows.Using them with PySpark SQL and PySpark DataFrame API   \n",
    "\n",
    "PySpark Window functions operate on a group of rows (like frame, partition) and return a single value for every input row. PySpark SQL supports three kinds of window functions:\n",
    "\n",
    "- ranking functions\n",
    "- analytic functions\n",
    "- aggregate functions\n",
    "\n",
    "\n",
    "To perform an operation on a group first, we need to partition the data using Window.partitionBy() , and for row number and rank function we need to additionally order by on partition data using orderBy clause."
   ]
  },
  {
   "cell_type": "code",
   "execution_count": 23,
   "id": "chubby-representation",
   "metadata": {},
   "outputs": [
    {
     "data": {
      "text/plain": [
       "<pyspark.sql.window.WindowSpec at 0x185fca32100>"
      ]
     },
     "execution_count": 23,
     "metadata": {},
     "output_type": "execute_result"
    }
   ],
   "source": [
    "window = Window.partitionBy(\"Season\").orderBy(col(\"WinPct\").desc(),col(\"GoalDifferentials\").desc())\n",
    "window"
   ]
  },
  {
   "cell_type": "code",
   "execution_count": 24,
   "id": "exact-letters",
   "metadata": {},
   "outputs": [
    {
     "name": "stdout",
     "output_type": "stream",
     "text": [
      "+-------------+------+-----------+------------+-----------------+---+----+---+------+------------+\n",
      "|         Team|Season|GoalsScored|GoalsAgainst|GoalDifferentials|Win|Loss|Tie|WinPct|TeamPosition|\n",
      "+-------------+------+-----------+------------+-----------------+---+----+---+------+------------+\n",
      "|Werder Bremen|  2003|         79|          38|               41| 22|   4|  8| 64.71|           1|\n",
      "|Bayern Munich|  2003|         70|          39|               31| 20|   6|  8| 58.82|           2|\n",
      "|   Leverkusen|  2003|         73|          39|               34| 19|   7|  8| 55.88|           3|\n",
      "|    Stuttgart|  2003|         52|          24|               28| 18|   6| 10| 52.94|           4|\n",
      "+-------------+------+-----------+------------+-----------------+---+----+---+------+------------+\n",
      "only showing top 4 rows\n",
      "\n"
     ]
    }
   ],
   "source": [
    "table = table.withColumn(\"TeamPosition\",rank().over(window))\n",
    "table.show(4)"
   ]
  },
  {
   "cell_type": "markdown",
   "id": "cosmetic-persian",
   "metadata": {},
   "source": [
    "### Filtering Team That got 1st Position W.r.t each Season"
   ]
  },
  {
   "cell_type": "code",
   "execution_count": 25,
   "id": "insured-conversation",
   "metadata": {},
   "outputs": [
    {
     "data": {
      "text/html": [
       "<div>\n",
       "<style scoped>\n",
       "    .dataframe tbody tr th:only-of-type {\n",
       "        vertical-align: middle;\n",
       "    }\n",
       "\n",
       "    .dataframe tbody tr th {\n",
       "        vertical-align: top;\n",
       "    }\n",
       "\n",
       "    .dataframe thead th {\n",
       "        text-align: right;\n",
       "    }\n",
       "</style>\n",
       "<table border=\"1\" class=\"dataframe\">\n",
       "  <thead>\n",
       "    <tr style=\"text-align: right;\">\n",
       "      <th></th>\n",
       "      <th>Team</th>\n",
       "      <th>Season</th>\n",
       "      <th>GoalsScored</th>\n",
       "      <th>GoalsAgainst</th>\n",
       "      <th>GoalDifferentials</th>\n",
       "      <th>Win</th>\n",
       "      <th>Loss</th>\n",
       "      <th>Tie</th>\n",
       "      <th>WinPct</th>\n",
       "      <th>TeamPosition</th>\n",
       "    </tr>\n",
       "  </thead>\n",
       "  <tbody>\n",
       "    <tr>\n",
       "      <th>0</th>\n",
       "      <td>Bayern Munich</td>\n",
       "      <td>2000</td>\n",
       "      <td>62</td>\n",
       "      <td>37</td>\n",
       "      <td>25</td>\n",
       "      <td>19</td>\n",
       "      <td>9</td>\n",
       "      <td>6</td>\n",
       "      <td>55.88</td>\n",
       "      <td>1</td>\n",
       "    </tr>\n",
       "    <tr>\n",
       "      <th>1</th>\n",
       "      <td>Leverkusen</td>\n",
       "      <td>2001</td>\n",
       "      <td>77</td>\n",
       "      <td>38</td>\n",
       "      <td>39</td>\n",
       "      <td>21</td>\n",
       "      <td>7</td>\n",
       "      <td>6</td>\n",
       "      <td>61.76</td>\n",
       "      <td>1</td>\n",
       "    </tr>\n",
       "    <tr>\n",
       "      <th>2</th>\n",
       "      <td>Bayern Munich</td>\n",
       "      <td>2002</td>\n",
       "      <td>70</td>\n",
       "      <td>25</td>\n",
       "      <td>45</td>\n",
       "      <td>23</td>\n",
       "      <td>5</td>\n",
       "      <td>6</td>\n",
       "      <td>67.65</td>\n",
       "      <td>1</td>\n",
       "    </tr>\n",
       "    <tr>\n",
       "      <th>3</th>\n",
       "      <td>Werder Bremen</td>\n",
       "      <td>2003</td>\n",
       "      <td>79</td>\n",
       "      <td>38</td>\n",
       "      <td>41</td>\n",
       "      <td>22</td>\n",
       "      <td>4</td>\n",
       "      <td>8</td>\n",
       "      <td>64.71</td>\n",
       "      <td>1</td>\n",
       "    </tr>\n",
       "    <tr>\n",
       "      <th>4</th>\n",
       "      <td>Bayern Munich</td>\n",
       "      <td>2004</td>\n",
       "      <td>75</td>\n",
       "      <td>33</td>\n",
       "      <td>42</td>\n",
       "      <td>24</td>\n",
       "      <td>5</td>\n",
       "      <td>5</td>\n",
       "      <td>70.59</td>\n",
       "      <td>1</td>\n",
       "    </tr>\n",
       "    <tr>\n",
       "      <th>5</th>\n",
       "      <td>Bayern Munich</td>\n",
       "      <td>2005</td>\n",
       "      <td>67</td>\n",
       "      <td>32</td>\n",
       "      <td>35</td>\n",
       "      <td>22</td>\n",
       "      <td>3</td>\n",
       "      <td>9</td>\n",
       "      <td>64.71</td>\n",
       "      <td>1</td>\n",
       "    </tr>\n",
       "    <tr>\n",
       "      <th>6</th>\n",
       "      <td>Stuttgart</td>\n",
       "      <td>2006</td>\n",
       "      <td>61</td>\n",
       "      <td>37</td>\n",
       "      <td>24</td>\n",
       "      <td>21</td>\n",
       "      <td>6</td>\n",
       "      <td>7</td>\n",
       "      <td>61.76</td>\n",
       "      <td>1</td>\n",
       "    </tr>\n",
       "    <tr>\n",
       "      <th>7</th>\n",
       "      <td>Bayern Munich</td>\n",
       "      <td>2007</td>\n",
       "      <td>68</td>\n",
       "      <td>21</td>\n",
       "      <td>47</td>\n",
       "      <td>22</td>\n",
       "      <td>2</td>\n",
       "      <td>10</td>\n",
       "      <td>64.71</td>\n",
       "      <td>1</td>\n",
       "    </tr>\n",
       "    <tr>\n",
       "      <th>8</th>\n",
       "      <td>Wolfsburg</td>\n",
       "      <td>2008</td>\n",
       "      <td>80</td>\n",
       "      <td>41</td>\n",
       "      <td>39</td>\n",
       "      <td>21</td>\n",
       "      <td>7</td>\n",
       "      <td>6</td>\n",
       "      <td>61.76</td>\n",
       "      <td>1</td>\n",
       "    </tr>\n",
       "    <tr>\n",
       "      <th>9</th>\n",
       "      <td>Bayern Munich</td>\n",
       "      <td>2009</td>\n",
       "      <td>72</td>\n",
       "      <td>31</td>\n",
       "      <td>41</td>\n",
       "      <td>20</td>\n",
       "      <td>4</td>\n",
       "      <td>10</td>\n",
       "      <td>58.82</td>\n",
       "      <td>1</td>\n",
       "    </tr>\n",
       "    <tr>\n",
       "      <th>10</th>\n",
       "      <td>Dortmund</td>\n",
       "      <td>2010</td>\n",
       "      <td>67</td>\n",
       "      <td>22</td>\n",
       "      <td>45</td>\n",
       "      <td>23</td>\n",
       "      <td>5</td>\n",
       "      <td>6</td>\n",
       "      <td>67.65</td>\n",
       "      <td>1</td>\n",
       "    </tr>\n",
       "  </tbody>\n",
       "</table>\n",
       "</div>"
      ],
      "text/plain": [
       "             Team  Season  GoalsScored  GoalsAgainst  GoalDifferentials  Win  \\\n",
       "0   Bayern Munich    2000           62            37                 25   19   \n",
       "1      Leverkusen    2001           77            38                 39   21   \n",
       "2   Bayern Munich    2002           70            25                 45   23   \n",
       "3   Werder Bremen    2003           79            38                 41   22   \n",
       "4   Bayern Munich    2004           75            33                 42   24   \n",
       "5   Bayern Munich    2005           67            32                 35   22   \n",
       "6       Stuttgart    2006           61            37                 24   21   \n",
       "7   Bayern Munich    2007           68            21                 47   22   \n",
       "8       Wolfsburg    2008           80            41                 39   21   \n",
       "9   Bayern Munich    2009           72            31                 41   20   \n",
       "10       Dortmund    2010           67            22                 45   23   \n",
       "\n",
       "    Loss  Tie  WinPct  TeamPosition  \n",
       "0      9    6   55.88             1  \n",
       "1      7    6   61.76             1  \n",
       "2      5    6   67.65             1  \n",
       "3      4    8   64.71             1  \n",
       "4      5    5   70.59             1  \n",
       "5      3    9   64.71             1  \n",
       "6      6    7   61.76             1  \n",
       "7      2   10   64.71             1  \n",
       "8      7    6   61.76             1  \n",
       "9      4   10   58.82             1  \n",
       "10     5    6   67.65             1  "
      ]
     },
     "execution_count": 25,
     "metadata": {},
     "output_type": "execute_result"
    }
   ],
   "source": [
    "table_1st = table.filter(col(\"TeamPosition\")==1).orderBy(asc(\"Season\"))\n",
    "table_1st.toPandas()"
   ]
  },
  {
   "cell_type": "code",
   "execution_count": null,
   "id": "induced-height",
   "metadata": {},
   "outputs": [],
   "source": []
  }
 ],
 "metadata": {
  "kernelspec": {
   "display_name": "Python 3",
   "language": "python",
   "name": "python3"
  },
  "language_info": {
   "codemirror_mode": {
    "name": "ipython",
    "version": 3
   },
   "file_extension": ".py",
   "mimetype": "text/x-python",
   "name": "python",
   "nbconvert_exporter": "python",
   "pygments_lexer": "ipython3",
   "version": "3.9.1"
  }
 },
 "nbformat": 4,
 "nbformat_minor": 5
}
